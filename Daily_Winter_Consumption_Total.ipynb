{
 "cells": [
  {
   "cell_type": "code",
   "execution_count": 4,
   "metadata": {},
   "outputs": [
    {
     "name": "stderr",
     "output_type": "stream",
     "text": [
      "C:\\Users\\maria\\AppData\\Local\\Temp\\ipykernel_78688\\2309791895.py:56: FutureWarning: The behavior of DataFrame concatenation with empty or all-NA entries is deprecated. In a future version, this will no longer exclude empty or all-NA columns when determining the result dtypes. To retain the old behavior, exclude the relevant entries before the concat operation.\n",
      "  results = pd.concat([results, new_row], ignore_index=True)\n"
     ]
    },
    {
     "name": "stdout",
     "output_type": "stream",
     "text": [
      "File Property_ID=EOH0345.csv does not contain 'Timestamp' column. Skipping.\n",
      "File Property_ID=EOH1880.csv does not contain 'Timestamp' column. Skipping.\n",
      "Results saved to average_daily_energy_consumption_winter_2.xlsx\n"
     ]
    }
   ],
   "source": [
    "\n",
    "#This code calculates the average daily consumption of several csvs taking into account the winter days\n",
    "import pandas as pd\n",
    "import os\n",
    "\n",
    "# Define the directory containing the CSV files\n",
    "directory = 'DATA'\n",
    "\n",
    "# Create an empty DataFrame to store the results\n",
    "results = pd.DataFrame(columns=['File_name', 'average_daily_energy_consumption_winter'])\n",
    "\n",
    "# Iterate over each file in the directory\n",
    "for filename in os.listdir(directory):\n",
    "    if filename.endswith(\".csv\"):\n",
    "        # Construct the full file path\n",
    "        file_path = os.path.join(directory, filename)\n",
    "        \n",
    "        # Load the data from the file\n",
    "        data = pd.read_csv(file_path)\n",
    "        \n",
    "        # Check if 'Timestamp' column exists\n",
    "        if 'Timestamp' not in data.columns:\n",
    "            print(f\"File {filename} does not contain 'Timestamp' column. Skipping.\")\n",
    "            continue\n",
    "        \n",
    "        # Convert Timestamp to datetime\n",
    "        data['Timestamp'] = pd.to_datetime(data['Timestamp'])\n",
    "\n",
    "        # Keep only the relevant columns\n",
    "        if 'Whole_System_Energy_Consumed' not in data.columns:\n",
    "            print(f\"File {filename} does not contain 'Whole_System_Energy_Consumed' column. Skipping.\")\n",
    "            continue\n",
    "\n",
    "        data = data[['Timestamp', 'Whole_System_Energy_Consumed']]\n",
    "\n",
    "        # Calculate incremental electricity energy in kW \n",
    "        data['Electricity_Energy_Incremental'] = data['Whole_System_Energy_Consumed'].diff()\n",
    "\n",
    "        # Filter data for winter months (December, January, February)\n",
    "        winter_months = [12, 1, 2]\n",
    "        winter_data = data[data['Timestamp'].dt.month.isin(winter_months)]\n",
    "\n",
    "        # Resample data to daily and sum the incremental energy\n",
    "        daily_energy_consumption = winter_data.resample('D', on='Timestamp')['Electricity_Energy_Incremental'].sum()\n",
    "\n",
    "        # Calculate the average daily energy consumption\n",
    "        average_daily_energy_consumption = daily_energy_consumption.mean()\n",
    "\n",
    "        # Append the results to the DataFrame\n",
    "        new_row = pd.DataFrame({\n",
    "            'File_name': [filename],\n",
    "            'average_daily_energy_consumption_winter': [average_daily_energy_consumption]\n",
    "        })\n",
    "        \n",
    "        # Check if the new_row is not empty or all NA before concatenating\n",
    "        if not new_row.isna().all().all():\n",
    "            results = pd.concat([results, new_row], ignore_index=True)\n",
    "\n",
    "# Save the results to an Excel file\n",
    "results.to_excel('average_daily_energy_consumption_winter_2.xlsx', index=False)\n",
    "\n",
    "print(\"Results saved to average_daily_energy_consumption_winter_2.xlsx\")\n",
    "\n",
    "\n"
   ]
  }
 ],
 "metadata": {
  "kernelspec": {
   "display_name": "base",
   "language": "python",
   "name": "python3"
  },
  "language_info": {
   "codemirror_mode": {
    "name": "ipython",
    "version": 3
   },
   "file_extension": ".py",
   "mimetype": "text/x-python",
   "name": "python",
   "nbconvert_exporter": "python",
   "pygments_lexer": "ipython3",
   "version": "3.12.4"
  }
 },
 "nbformat": 4,
 "nbformat_minor": 2
}
