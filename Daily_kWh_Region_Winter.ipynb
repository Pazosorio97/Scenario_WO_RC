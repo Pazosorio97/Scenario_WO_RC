{
 "cells": [
  {
   "cell_type": "code",
   "execution_count": 5,
   "metadata": {},
   "outputs": [
    {
     "name": "stdout",
     "output_type": "stream",
     "text": [
      "        Region_UK  average_daily_energy_consumption_winter\n",
      "0   North England                               828.941324\n",
      "1        Scotland                              1930.279508\n",
      "2   South England                               677.718078\n"
     ]
    }
   ],
   "source": [
    "# This code calculates kWh per winter day by region\n",
    "import pandas as pd\n",
    "\n",
    "# Read the excel file\n",
    "file_path = 'DATA_HOUSEHOLDS_BOX.xlsx'  \n",
    "data = pd.read_excel(file_path)\n",
    "\n",
    "# Group the data by the 'Region_UK' column and sum 'average_daily_energy_consumption_winter'\n",
    "aggregated_data = data.groupby('Region_UK')['average_daily_energy_consumption_winter'].sum().reset_index()\n",
    "\n",
    "# Display the aggregated data\n",
    "print(aggregated_data)"
   ]
  }
 ],
 "metadata": {
  "kernelspec": {
   "display_name": "base",
   "language": "python",
   "name": "python3"
  },
  "language_info": {
   "codemirror_mode": {
    "name": "ipython",
    "version": 3
   },
   "file_extension": ".py",
   "mimetype": "text/x-python",
   "name": "python",
   "nbconvert_exporter": "python",
   "pygments_lexer": "ipython3",
   "version": "3.12.4"
  }
 },
 "nbformat": 4,
 "nbformat_minor": 2
}
